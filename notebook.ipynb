{
 "cells": [
  {
   "cell_type": "markdown",
   "id": "d55aa46e",
   "metadata": {},
   "source": [
    "# Jessyca McGee: Exploratory Data Analysis Project\n"
   ]
  },
  {
   "cell_type": "code",
   "execution_count": 1,
   "id": "8169d43f",
   "metadata": {},
   "outputs": [
    {
     "ename": "ModuleNotFoundError",
     "evalue": "No module named 'pandas'",
     "output_type": "error",
     "traceback": [
      "\u001b[31m---------------------------------------------------------------------------\u001b[39m",
      "\u001b[31mModuleNotFoundError\u001b[39m                       Traceback (most recent call last)",
      "\u001b[36mCell\u001b[39m\u001b[36m \u001b[39m\u001b[32mIn[1]\u001b[39m\u001b[32m, line 1\u001b[39m\n\u001b[32m----> \u001b[39m\u001b[32m1\u001b[39m \u001b[38;5;28;01mimport\u001b[39;00m\u001b[38;5;250m \u001b[39m\u001b[34;01mpandas\u001b[39;00m\u001b[38;5;250m \u001b[39m\u001b[38;5;28;01mas\u001b[39;00m\u001b[38;5;250m \u001b[39m\u001b[34;01mpd\u001b[39;00m\n\u001b[32m      2\u001b[39m \u001b[38;5;28mprint\u001b[39m(\u001b[33m\"\u001b[39m\u001b[33mStarting out with Jupyter.\u001b[39m\u001b[33m\"\u001b[39m)\n",
      "\u001b[31mModuleNotFoundError\u001b[39m: No module named 'pandas'"
     ]
    }
   ],
   "source": [
    "import pandas as pd\n",
    "print(\"Starting out with Jupyter.\")"
   ]
  },
  {
   "cell_type": "markdown",
   "id": "c79c910e",
   "metadata": {},
   "source": [
    "Jessyca McGee: EDA Step 1 & 2\n",
    "Author: Jessyca McGee"
   ]
  },
  {
   "cell_type": "markdown",
   "id": "68e329dd",
   "metadata": {},
   "source": [
    "Step 1: Import"
   ]
  },
  {
   "cell_type": "code",
   "execution_count": null,
   "id": "62bc06a8",
   "metadata": {},
   "outputs": [
    {
     "ename": "ModuleNotFoundError",
     "evalue": "No module named 'pandas'",
     "output_type": "error",
     "traceback": [
      "\u001b[31m---------------------------------------------------------------------------\u001b[39m",
      "\u001b[31mModuleNotFoundError\u001b[39m                       Traceback (most recent call last)",
      "\u001b[36mCell\u001b[39m\u001b[36m \u001b[39m\u001b[32mIn[4]\u001b[39m\u001b[32m, line 1\u001b[39m\n\u001b[32m----> \u001b[39m\u001b[32m1\u001b[39m \u001b[38;5;28;01mimport\u001b[39;00m\u001b[38;5;250m \u001b[39m\u001b[34;01mpandas\u001b[39;00m\u001b[38;5;250m \u001b[39m\u001b[38;5;28;01mas\u001b[39;00m\u001b[38;5;250m \u001b[39m\u001b[34;01mpd\u001b[39;00m\n\u001b[32m      2\u001b[39m \u001b[38;5;28;01mimport\u001b[39;00m\u001b[38;5;250m \u001b[39m\u001b[34;01mseaborn\u001b[39;00m\u001b[38;5;250m \u001b[39m\u001b[38;5;28;01mas\u001b[39;00m\u001b[38;5;250m \u001b[39m\u001b[34;01msns\u001b[39;00m\n\u001b[32m      3\u001b[39m \u001b[38;5;28;01mimport\u001b[39;00m\u001b[38;5;250m \u001b[39m\u001b[34;01mmatplotlib\u001b[39;00m \n",
      "\u001b[31mModuleNotFoundError\u001b[39m: No module named 'pandas'"
     ]
    },
    {
     "ename": "",
     "evalue": "",
     "output_type": "error",
     "traceback": [
      "\u001b[1;31mnotebook controller is DISPOSED. \n",
      "\u001b[1;31mView Jupyter <a href='command:jupyter.viewOutput'>log</a> for further details."
     ]
    }
   ],
   "source": [
    "import pandas as pd\n",
    "import seaborn as sns\n",
    "import matplotlib \n",
    "\n",
    "# Axes object (basic plot type returned by Seaborn)\n",
    "from matplotlib.axes import Axes"
   ]
  },
  {
   "cell_type": "markdown",
   "id": "c15781ee",
   "metadata": {},
   "source": [
    "Step 2 Load Data"
   ]
  },
  {
   "cell_type": "code",
   "execution_count": null,
   "id": "8ceb8df4",
   "metadata": {},
   "outputs": [
    {
     "ename": "NameError",
     "evalue": "name 'sns' is not defined",
     "output_type": "error",
     "traceback": [
      "\u001b[31m---------------------------------------------------------------------------\u001b[39m",
      "\u001b[31mNameError\u001b[39m                                 Traceback (most recent call last)",
      "\u001b[36mCell\u001b[39m\u001b[36m \u001b[39m\u001b[32mIn[2]\u001b[39m\u001b[32m, line 2\u001b[39m\n\u001b[32m      1\u001b[39m \u001b[38;5;66;03m# Load the Iris dataset into pandas DataFrame\u001b[39;00m\n\u001b[32m----> \u001b[39m\u001b[32m2\u001b[39m iris_df: pd.DataFrame = \u001b[43msns\u001b[49m.load_dataset(\u001b[33m'\u001b[39m\u001b[33miris\u001b[39m\u001b[33m'\u001b[39m)\n\u001b[32m      4\u001b[39m \u001b[38;5;66;03m# List column names\u001b[39;00m\n\u001b[32m      5\u001b[39m iris_df.columns\n",
      "\u001b[31mNameError\u001b[39m: name 'sns' is not defined"
     ]
    },
    {
     "ename": "",
     "evalue": "",
     "output_type": "error",
     "traceback": [
      "\u001b[1;31mnotebook controller is DISPOSED. \n",
      "\u001b[1;31mView Jupyter <a href='command:jupyter.viewOutput'>log</a> for further details."
     ]
    }
   ],
   "source": [
    "# Load the Iris dataset into pandas DataFrame\n",
    "iris_df: pd.DataFrame = sns.load_dataset('iris')\n",
    "\n",
    "# List column names\n",
    "iris_df.columns\n",
    "\n",
    "# Inspect first few rows of the DataFrame\n",
    "iris_df.head()"
   ]
  },
  {
   "cell_type": "markdown",
   "id": "27141f3c",
   "metadata": {},
   "source": [
    "Step 3 Initial Data Inspection"
   ]
  },
  {
   "cell_type": "code",
   "execution_count": null,
   "id": "c523278e",
   "metadata": {},
   "outputs": [],
   "source": [
    "# Specify the number of rows to display\n",
    "iris_df.head(10)\n",
    "\n",
    "# Inspect the shape of the DataFrame with shape attribute\n",
    "# The shape is a tuple with count of rows and columns in the DataFrame\n",
    "iris_df.shape\n",
    "\n",
    "# Inspect the data types of the columns with dtypes attribute\n",
    "# The data types are returned as a pandas Series\n",
    "iris_df.dtypes\n",
    "\n",
    "# Inspect the data types of the columns with info() method\n",
    "iris_df.info()"
   ]
  },
  {
   "cell_type": "markdown",
   "id": "c6cabbca",
   "metadata": {},
   "source": [
    "Step 4 Initial Data Statistics"
   ]
  },
  {
   "cell_type": "code",
   "execution_count": null,
   "id": "3f7bcbb6",
   "metadata": {},
   "outputs": [],
   "source": [
    "# Inspect summary statistics for numerical columns\n",
    "iris_df.describe()"
   ]
  },
  {
   "cell_type": "markdown",
   "id": "809d8264",
   "metadata": {},
   "source": [
    "Step 5A Initial DataDistrubution for Numerical Columns"
   ]
  },
  {
   "cell_type": "code",
   "execution_count": null,
   "id": "d2fb6a4a",
   "metadata": {},
   "outputs": [],
   "source": [
    "# Inspect histogram by one numerical column\n",
    "iris_df['sepal_length'].hist()\n",
    "\n",
    "# Inspect histograms for ALL numerical columns\n",
    "iris_df.hist()\n",
    "\n",
    "# Show all plots\n",
    "matplotlib.pyplot.show()"
   ]
  },
  {
   "cell_type": "markdown",
   "id": "9c5f5d38",
   "metadata": {},
   "source": [
    "5A Observations"
   ]
  },
  {
   "cell_type": "markdown",
   "id": "fd1b8eb6",
   "metadata": {},
   "source": [
    "Step 5B Initial Data Distribution for Categorical Columns"
   ]
  },
  {
   "cell_type": "code",
   "execution_count": null,
   "id": "ed0a3cd3",
   "metadata": {},
   "outputs": [],
   "source": [
    "# Inspect value counts by categorical column\n",
    "# Column name must be EXACT.\n",
    "# The value_counts() method is only available for Series objects.\n",
    "# The value_counts() method returns a pandas Series with the counts of unique values in the column.\n",
    "iris_df['species'].value_counts()\n",
    "\n",
    "# Inspect value counts for ALL categorical columns\n",
    "for col in iris_df.select_dtypes(include=['object', 'category']).columns:\n",
    "    # Display count plot\n",
    "    sns.countplot(x=col, data=iris_df)\n",
    "    matplotlib.pyplot.title(f'Distribution of {col}')\n",
    "    matplotlib.pyplot.show()\n",
    "\n",
    "# Show all plots\n",
    "matplotlib.pyplot.show()"
   ]
  },
  {
   "cell_type": "markdown",
   "id": "71ecac44",
   "metadata": {},
   "source": [
    "5B Observations"
   ]
  },
  {
   "cell_type": "markdown",
   "id": "104a6dc1",
   "metadata": {},
   "source": [
    "Step 6 Initial Data Trasnformation and Feature Engineering"
   ]
  },
  {
   "cell_type": "code",
   "execution_count": null,
   "id": "66432a7b",
   "metadata": {},
   "outputs": [],
   "source": [
    "# Feature Engineering\n",
    "# Renaming a column\n",
    "iris_df.rename(columns={'sepal_length': 'Sepal Length'}, inplace=True)\n",
    "\n",
    "# Adding a new column\n",
    "iris_df['Sepal Area'] = iris_df['Sepal Length'] * iris_df['sepal_width']\n"
   ]
  },
  {
   "cell_type": "markdown",
   "id": "feb29117",
   "metadata": {},
   "source": [
    "Step 7 Initial Visualization"
   ]
  },
  {
   "cell_type": "code",
   "execution_count": null,
   "id": "609abcf8",
   "metadata": {},
   "outputs": [],
   "source": [
    "# Feature Engineering\n",
    "# Renaming a column\n",
    "iris_df.rename(columns={'sepal_length': 'Sepal Length'}, inplace=True)\n",
    "\n",
    "# Adding a new column\n",
    "iris_df['Sepal Area'] = iris_df['Sepal Length'] * iris_df['sepal_width']\n",
    "\n",
    "# Create a pairplot of the Iris dataset\n",
    "# A pairplot is a grid of scatter plots for each pair of numerical columns in the dataset\n",
    "# The hue parameter is used to color the data points \n",
    "# by species (a categorical column)\n",
    "sns.pairplot(iris_df, hue='species')\n",
    "\n",
    "# Show all plots\n",
    "matplotlib.pyplot.show()"
   ]
  },
  {
   "cell_type": "code",
   "execution_count": null,
   "id": "baf453d4",
   "metadata": {},
   "outputs": [],
   "source": [
    "# A scatter plot is a plot of two numerical variables.\n",
    "scatter_plt: Axes = sns.scatterplot(\n",
    "    data=iris_df, x=\"Sepal Length\", y=\"Sepal Area\", hue=\"species\"\n",
    ")\n",
    "\n",
    "# Set axis labels using the Matplotlib Axes methods set_xlabel() and set_ylabel()\n",
    "scatter_plt.set_xlabel(\"Sepal Length (mm)\")\n",
    "scatter_plt.set_ylabel(\"Sepal Area (mm squared)\")   \n",
    "\n",
    "# Set the title using the Matplotlib Axes set_title() method\n",
    "scatter_plt.set_title(\"Chart 1. Iris Sepal Length vs. Sepal Area (by Species)\")\n",
    "\n",
    "matplotlib.pyplot.show()"
   ]
  },
  {
   "cell_type": "markdown",
   "id": "a38fd36f",
   "metadata": {},
   "source": [
    "7 Observations"
   ]
  },
  {
   "cell_type": "markdown",
   "id": "e294e26b",
   "metadata": {},
   "source": [
    "Step 8 Inital Insights"
   ]
  },
  {
   "cell_type": "markdown",
   "id": "6237695c",
   "metadata": {},
   "source": []
  },
  {
   "cell_type": "markdown",
   "id": "d65e01f9",
   "metadata": {},
   "source": [
    "Step 9 Annotate Your Notebook for storytelling and Presentation"
   ]
  }
 ],
 "metadata": {
  "kernelspec": {
   "display_name": ".venv",
   "language": "python",
   "name": "python3"
  },
  "language_info": {
   "codemirror_mode": {
    "name": "ipython",
    "version": 3
   },
   "file_extension": ".py",
   "mimetype": "text/x-python",
   "name": "python",
   "nbconvert_exporter": "python",
   "pygments_lexer": "ipython3",
   "version": "3.14.0a7"
  }
 },
 "nbformat": 4,
 "nbformat_minor": 5
}
