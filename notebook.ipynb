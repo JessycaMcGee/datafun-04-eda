{
 "cells": [
  {
   "cell_type": "markdown",
   "id": "d55aa46e",
   "metadata": {},
   "source": [
    "# Jessyca McGee: Exploratory Data Analysis Project\n"
   ]
  },
  {
   "cell_type": "code",
   "execution_count": null,
   "id": "8169d43f",
   "metadata": {},
   "outputs": [],
   "source": [
    "import pandas as pd\n",
    "print(\"Starting out with Jupyter.\")"
   ]
  }
 ],
 "metadata": {
  "kernelspec": {
   "display_name": ".venv",
   "language": "python",
   "name": "python3"
  },
  "language_info": {
   "name": "python",
   "version": "3.14.0"
  }
 },
 "nbformat": 4,
 "nbformat_minor": 5
}
